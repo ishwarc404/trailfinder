{
 "cells": [
  {
   "cell_type": "code",
   "execution_count": 229,
   "metadata": {},
   "outputs": [],
   "source": [
    "#Code which generates the relation graph with both broken ways, and original ways\n",
    "#Keep in mind, we are going to ignore the original ways which were broken down. We need to filter them.\n",
    "\n",
    "import json\n",
    "import networkx as nx\n",
    "import matplotlib.pyplot as plt\n",
    "from geopy.distance import geodesic\n",
    "import folium\n",
    "import polyline"
   ]
  },
  {
   "cell_type": "code",
   "execution_count": 151,
   "metadata": {},
   "outputs": [
    {
     "name": "stdout",
     "output_type": "stream",
     "text": [
      "Original keys:  219\n",
      "Broken keys:  789\n",
      "All keys after merging:  1008\n",
      "Num of keys in final object:  336\n"
     ]
    }
   ],
   "source": [
    "\n",
    "# Load data\n",
    "with open('way_objects.json') as fp:\n",
    "    way_objects = json.load(fp)\n",
    "\n",
    "with open('broken_way_objects.json') as fp:\n",
    "    broken_way_objects = json.load(fp)\n",
    "\n",
    "keyset = list(way_objects.keys())\n",
    "print(\"Original keys: \",len(keyset) )\n",
    "print(\"Broken keys: \",len(broken_way_objects.keys()) )\n",
    "\n",
    "for newkey in broken_way_objects.keys():\n",
    "    original_key = newkey.split(\"_\")[0]\n",
    "    if(original_key in keyset):\n",
    "        keyset.remove(original_key)\n",
    "    keyset.append(newkey)\n",
    "\n",
    "#lets combine two objects now\n",
    "broken_way_objects.update(way_objects)\n",
    "#lets remove keys which we do not need now\n",
    "print(\"All keys after merging: \",len(broken_way_objects.keys()) )\n",
    "\n",
    "with open('way_metrics.json') as fp:\n",
    "    way_metrics = json.load(fp)\n",
    "\n",
    "# ^ this will determine the final keyset\n",
    "new_ways = {}\n",
    "for key in list(way_metrics.keys()):\n",
    "    new_ways[key] = broken_way_objects[key]\n",
    "\n",
    "print(\"Num of keys in final object: \",len(new_ways.keys()) )\n",
    "\n",
    "\n"
   ]
  },
  {
   "cell_type": "code",
   "execution_count": 152,
   "metadata": {},
   "outputs": [
    {
     "name": "stdout",
     "output_type": "stream",
     "text": [
      "336\n"
     ]
    }
   ],
   "source": [
    "print(len(set(new_ways.keys())))"
   ]
  },
  {
   "cell_type": "code",
   "execution_count": 153,
   "metadata": {},
   "outputs": [],
   "source": [
    "\n",
    "G = nx.DiGraph()\n",
    "\n",
    "# Define a function to check if two points are within 10 meters\n",
    "def is_within_distance(point1, point2, distance_m=10):\n",
    "    return geodesic(point1, point2).meters <= distance_m\n",
    "\n",
    "way_relations = {}\n",
    "not_first_ways = [] #stores all the ways which are never first i.e children\n",
    "\n",
    "# Create nodes for each way ID\n",
    "for wayid in new_ways:\n",
    "    way_relations[wayid] = []\n",
    "    G.add_node(wayid)\n",
    "\n",
    "# Create edges based on proximity\n",
    "for wayid, coordinates in new_ways.items():\n",
    "    end_point = tuple(coordinates[-1])\n",
    "    for other_wayid, other_coordinates in new_ways.items():\n",
    "        if wayid != other_wayid:\n",
    "            start_point_other = tuple(other_coordinates[0])\n",
    "            if is_within_distance(end_point, start_point_other):\n",
    "                way_relations[wayid].append(other_wayid)\n",
    "                not_first_ways.append(other_wayid)\n",
    "                G.add_edge(wayid, other_wayid)\n",
    "\n"
   ]
  },
  {
   "cell_type": "code",
   "execution_count": 154,
   "metadata": {},
   "outputs": [],
   "source": [
    "def find_root_nodes(G):\n",
    "    \"\"\"Find all nodes in the graph G that have no parents.\"\"\"\n",
    "    return [node for node in G if G.in_degree(node) == 0]\n",
    "\n",
    "def find_leaf_nodes(G):\n",
    "    \"\"\"Find all nodes in the graph G that have no children.\"\"\"\n",
    "    return [node for node in G if G.out_degree(node) == 0]\n",
    "\n",
    "def find_paths(G, start_node, end_nodes, path=[]):\n",
    "    \"\"\"Find all paths from start_node to any of the end_nodes, without revisiting nodes.\"\"\"\n",
    "    path = path + [start_node]\n",
    "    if start_node in end_nodes:\n",
    "        return [path]\n",
    "    paths = []\n",
    "    for node in G.successors(start_node):\n",
    "        if node not in path:\n",
    "            newpaths = find_paths(G, node, end_nodes, path)\n",
    "            for newpath in newpaths:\n",
    "                paths.append(newpath)\n",
    "    return paths\n",
    "    \n"
   ]
  },
  {
   "cell_type": "code",
   "execution_count": 200,
   "metadata": {},
   "outputs": [
    {
     "name": "stdout",
     "output_type": "stream",
     "text": [
      "All the different ways in the map:  336\n",
      "All the ways which have a parent:  266\n",
      "All the ways which do not have a parent:  70\n"
     ]
    }
   ],
   "source": [
    "#lets get the list of ways which mark the beginning of the tree\n",
    "all_ways = set(new_ways.keys())\n",
    "not_first_ways = set(not_first_ways)\n",
    "first_ways = all_ways - not_first_ways\n",
    "print(\"All the different ways in the map: \", len(all_ways))\n",
    "print(\"All the ways which have a parent: \", len(not_first_ways))\n",
    "print(\"All the ways which do not have a parent: \" , len(first_ways)) \n",
    "\n",
    "first_way_objects = {x: new_ways[x] for x in new_ways.keys() if x  in first_ways}\n",
    "\n",
    "with open('first_way_objects_after_break.json', 'w+') as fp:\n",
    "    json.dump(first_way_objects, fp)\n",
    "\n",
    "avg_lat = sum(coord[0] for  wayid, coordinates in first_way_objects.items() for coord in coordinates) / sum(len(coordinates) for wayid, coordinates in first_way_objects.items())\n",
    "avg_lon = sum(coord[1] for  wayid, coordinates in first_way_objects.items() for coord in coordinates) / sum(len(coordinates) for wayid, coordinates in first_way_objects.items())\n",
    "map_osm = folium.Map(location=[avg_lat, avg_lon], zoom_start=14)\n",
    "\n",
    "\n",
    "way_objects = {}\n",
    "for wayid, coordinates in new_ways.items():\n",
    "    # Extract the coordinates for the way\n",
    "    # Create a polyline with the coordinates and add to the map\n",
    "    \n",
    "    #storing it in the temporary database\n",
    "    # way_objects[wayid] = coordinates\n",
    "\n",
    "    folium.PolyLine(coordinates, color=\"orange\", weight=2.5, opacity=1).add_to(map_osm)\n",
    "    # Optionally, add a marker for the first node of the way with a popup for the way ID\n",
    "    folium.Marker(\n",
    "        [coordinates[0][0], coordinates[0][1]],\n",
    "        popup=f\"Start Way ID: {wayid}\"\n",
    "    ).add_to(map_osm)\n",
    "\n",
    "\n",
    "# Save to an HTML file\n",
    "output_file = './osm_new_way_after_break_visualization.html'\n",
    "map_osm.save(output_file)\n"
   ]
  },
  {
   "cell_type": "code",
   "execution_count": 156,
   "metadata": {},
   "outputs": [
    {
     "name": "stdout",
     "output_type": "stream",
     "text": [
      "70\n"
     ]
    }
   ],
   "source": [
    "# Assuming G is your DiGraph\n",
    "root_nodes = find_root_nodes(G)\n",
    "leaf_nodes = find_leaf_nodes(G)\n",
    "\n",
    "print(len(root_nodes))"
   ]
  },
  {
   "cell_type": "code",
   "execution_count": 168,
   "metadata": {},
   "outputs": [],
   "source": [
    "import networkx as nx\n",
    "from geopy.distance import geodesic\n",
    "\n",
    "def calculate_distance_elevation(wayid):\n",
    "    \"\"\"\n",
    "    Calculate the total distance and elevation gain of a way.\n",
    "    way_coordinates: List of (latitude, longitude) tuples.\n",
    "    elevations: List of elevations corresponding to each coordinate.\n",
    "    \"\"\"\n",
    "    total_distance = way_metrics[wayid]['distance']  # Total distance in meters\n",
    "    total_elevation_gain = way_metrics[wayid]['gain']  # Total elevation gain in meters\n",
    "\n",
    "    return [total_distance, total_elevation_gain]\n",
    "\n",
    "def dfs_find_trails(G, start_node, target_distance, target_elevation_gain, current_path=[], current_distance=0, current_elevation=0, distance_tolerance=50):\n",
    "    # Add the start_node to the current path\n",
    "    current_path = current_path + [start_node]\n",
    "\n",
    "    # Check if the current path meets the distance and elevation criteria\n",
    "    if current_distance >= target_distance and current_distance <= target_distance + distance_tolerance and current_elevation >= target_elevation_gain:\n",
    "        return [current_path]\n",
    "\n",
    "    paths = []\n",
    "    for node in G.successors(start_node):\n",
    "        # Check if the node has already been visited in the current path\n",
    "        if node not in current_path: \n",
    "            # Calculate the distance and elevation for the new way\n",
    "            way_distance, way_elevation = calculate_distance_elevation(node)\n",
    "            new_distance = current_distance + way_distance\n",
    "            new_elevation = current_elevation + way_elevation\n",
    "\n",
    "            # Continue the search if the new distance and elevation are within tolerance\n",
    "            if new_distance <= target_distance + distance_tolerance: \n",
    "                newpaths = dfs_find_trails(G, node, target_distance, target_elevation_gain, current_path, new_distance, new_elevation, distance_tolerance)\n",
    "                paths.extend(newpaths)\n",
    "\n",
    "    return paths\n",
    "\n"
   ]
  },
  {
   "cell_type": "code",
   "execution_count": 165,
   "metadata": {},
   "outputs": [
    {
     "name": "stdout",
     "output_type": "stream",
     "text": [
      "['36006153_0', '59878931_1', '73579855_0', '73579864_0', '73579928_0', '73622155_0', '73680752_2', '73680766_0', '73680792_0', '73680802_2', '73680807_0', '73680820_0', '73680845_2', '73680850_0', '73680855_0', '73680863_1', '73680875_0', '73680877_1', '73680902_0', '73680929_1', '73680951_1', '73680955_0', '73681015_0', '73681079_0', '73681083_0', '97309332_0', '97918391_0', '105107028_1', '113660806_0', '116417122_0', '129859895_1', '198354140_0', '264409328_0', '311287374_1', '342856328_0', '342856334_1', '342860382_1', '342860611_0', '343270417_1', '361823723_0', '361823725_1', '364951580_0', '400679135_0', '437190620_0', '442967665_0', '442967666_0', '471348777_0', '517774838_0', '521978877_0', '522322511_0', '544660536_0', '837711407_0', '937982930_0', '963610548_1', '963610550_1', '963610552_0', '963610553_0', '963610554_0', '963610557_0', '963610558_0', '993367635_0', '996186621_0', '996186629_0', '997648059_0', '1008955114_0', '1149770527_0', '1149770528_0', '1149772390_0', '1190224884_0', '1190224885_0']\n",
      "70\n"
     ]
    }
   ],
   "source": [
    "# Assuming G is your DiGraph and new_ways contains way data\n",
    "root_nodes = [node for node in G if G.in_degree(node) == 0]\n",
    "print(root_nodes)\n",
    "print(len(root_nodes))\n",
    "\n",
    "\n",
    "# Now all_trails contains paths that meet the criteria"
   ]
  },
  {
   "cell_type": "code",
   "execution_count": 213,
   "metadata": {},
   "outputs": [
    {
     "name": "stdout",
     "output_type": "stream",
     "text": [
      "8\n"
     ]
    }
   ],
   "source": [
    "all_trails = []\n",
    "distance_in_meters = 7000\n",
    "vert_in_meters = 300\n",
    "for root in range(len(root_nodes)):\n",
    "    all_trails.extend(dfs_find_trails(G, root_nodes[root], distance_in_meters, vert_in_meters, distance_tolerance=100))\n",
    "\n",
    "print(len(all_trails))"
   ]
  },
  {
   "cell_type": "code",
   "execution_count": 143,
   "metadata": {},
   "outputs": [
    {
     "data": {
      "text/plain": [
       "[['36006153_0',\n",
       "  '36006153_1',\n",
       "  '36006153_2',\n",
       "  '442967671_0',\n",
       "  '442967671_1',\n",
       "  '73681061_2',\n",
       "  '36006153_4',\n",
       "  '36006153_5',\n",
       "  '377893257_0',\n",
       "  '377893257_1']]"
      ]
     },
     "execution_count": 143,
     "metadata": {},
     "output_type": "execute_result"
    }
   ],
   "source": [
    "# all_trails = [all_trails[0]]\n",
    "# all_trails"
   ]
  },
  {
   "cell_type": "code",
   "execution_count": 230,
   "metadata": {},
   "outputs": [
    {
     "name": "stdout",
     "output_type": "stream",
     "text": [
      "8\n",
      "Trail Distance: 9279.401337399913 Trail Elevation: 749.0\n",
      "Trail Distance: 9279.401337399913 Trail Elevation: 749.0\n",
      "Trail Distance: 9348.65896829038 Trail Elevation: 767.0\n",
      "Trail Distance: 9348.65896829038 Trail Elevation: 767.0\n",
      "Trail Distance: 9480.83444280033 Trail Elevation: 750.0\n",
      "Trail Distance: 9480.83444280033 Trail Elevation: 750.0\n",
      "Trail Distance: 9550.09207369079 Trail Elevation: 768.0\n",
      "Trail Distance: 9550.09207369079 Trail Elevation: 768.0\n"
     ]
    }
   ],
   "source": [
    "\n",
    "print(len(all_trails))\n",
    "# Create a Folium map\n",
    "# Initialize the map with a central location\n",
    "# map_center = [first_line.coords[0][0], first_line.coords[0][1]]\n",
    "\n",
    "map_center = [40.014984,-105.270546 ]\n",
    "m = folium.Map(location=map_center, zoom_start=13)\n",
    "\n",
    "# Function to add a trail to the map\n",
    "def add_trail_to_map(trail_coordinates, map_object):\n",
    "    # trail is a list of coordinates [(lat, lon), (lat, lon), ...]\n",
    "        # Extract start and end coordinates of the trail\n",
    "    start_coord = trail_coordinates[0]  # First coordinate of the first way\n",
    "    end_coord = trail_coordinates[-1]  # Last coordinate of the last way\n",
    "\n",
    "    # Add markers for start and end points\n",
    "    folium.Marker(\n",
    "        start_coord,\n",
    "        popup=\"Start\",\n",
    "        icon=folium.Icon(color='green', icon='play')\n",
    "    ).add_to(map_object)\n",
    "\n",
    "    folium.Marker(\n",
    "        end_coord,\n",
    "        popup=\"End\",\n",
    "        icon=folium.Icon(color='red', icon='stop')\n",
    "    ).add_to(map_object)\n",
    "\n",
    "\n",
    "    folium.PolyLine(trail_coordinates, color='blue', weight=2.5, opacity=1).add_to(map_object)\n",
    "\n",
    "\n",
    "polylines = []\n",
    "coordinates = []\n",
    "# Add each trail to the map\n",
    "for trail_set in all_trails:  # Assuming all_trails is a list of trails\n",
    "    trail_coordinates = []\n",
    "    for each_trail in trail_set:\n",
    "        trail_coordinates.extend(new_ways[each_trail])  # Convert way IDs to coordinates\n",
    "\n",
    "\n",
    "    #printout info about that trail\n",
    "    dist,ele = get_distance_elevation(trail_coordinates)\n",
    "    # geojson_polyline = coordinates_to_geojson(coordinates)\n",
    "\n",
    "    coordinates.append(trail_coordinates)\n",
    "    polylines.append(geojson_polyline)\n",
    "    print(\"Trail Distance: {} Trail Elevation: {}\".format(dist, ele))\n",
    "\n",
    "    \n",
    "    add_trail_to_map(trail_coordinates, m)\n",
    "\n",
    "# Save or display the map\n",
    "m.save('trails_map.html')\n"
   ]
  },
  {
   "cell_type": "code",
   "execution_count": 223,
   "metadata": {},
   "outputs": [
    {
     "data": {
      "text/plain": [
       "'{\"type\": \"FeatureCollection\", \"features\": [{\"type\": \"Feature\", \"geometry\": {\"type\": \"LineString\", \"coordinates\": [[39.9929181, -105.2816038], [39.9932671, -105.2815745], [39.9933664, -105.2814224], [39.9935854, -105.2812437], [39.9937912, -105.2811471], [39.9941659, -105.2808223], [39.9943909, -105.2807667], [39.9945379, -105.2805338], [39.9947305, -105.2804174], [39.9948349, -105.2804597], [39.9949262, -105.2803631], [39.9950255, -105.2803869], [39.9951573, -105.28024], [39.9953175, -105.2802586], [39.9955391, -105.2800253]]}, \"properties\": {}}]}'"
      ]
     },
     "execution_count": 223,
     "metadata": {},
     "output_type": "execute_result"
    }
   ],
   "source": []
  },
  {
   "cell_type": "code",
   "execution_count": 196,
   "metadata": {},
   "outputs": [],
   "source": [
    "def get_distance_elevation(way_coordinates):\n",
    "    total_distance = 0  # Total distance in meters\n",
    "    total_elevation_gain = 0\n",
    "\n",
    "    for i in range(len(way_coordinates) - 1):\n",
    "        # Calculate distance between consecutive points\n",
    "        point1 = way_coordinates[i]\n",
    "        point2 = way_coordinates[i+1]\n",
    "\n",
    "        distance = geodesic(point1, point2).meters\n",
    "        total_distance += distance\n",
    "\n",
    "    \n",
    "    point1 = way_coordinates[0]\n",
    "    point2 = way_coordinates[-1]\n",
    "\n",
    "\n",
    "    point1_elevation = 0\n",
    "    point2_elevation = 0\n",
    "\n",
    "    api_url = f\"https://api.open-elevation.com/api/v1/lookup?locations={point1[0]},{point1[1]}\"\n",
    "    response = requests.get(api_url)\n",
    "    if response.status_code == 200:\n",
    "        data = response.json()\n",
    "        # Extract elevation from the response\n",
    "        point1_elevation = data['results'][0]['elevation']\n",
    "    else:\n",
    "        point1_elevation = 0\n",
    "\n",
    "    api_url = f\"https://api.open-elevation.com/api/v1/lookup?locations={point2[0]},{point2[1]}\"\n",
    "    response = requests.get(api_url)\n",
    "    if response.status_code == 200:\n",
    "        data = response.json()\n",
    "        # Extract elevation from the response\n",
    "        point2_elevation = data['results'][0]['elevation']\n",
    "    else:\n",
    "        point2_elevation = 0\n",
    "\n",
    "    total_elevation_gain += point2_elevation - point1_elevation\n",
    "    return [total_distance,total_elevation_gain]"
   ]
  },
  {
   "cell_type": "code",
   "execution_count": 235,
   "metadata": {},
   "outputs": [
    {
     "name": "stdout",
     "output_type": "stream",
     "text": [
      "[[-105.2801988, 39.9972788], [-105.2801228, 39.9971888], [-105.28014, 39.9971319], [-105.2802749, 39.9969655], [-105.2803532, 39.9967215], [-105.2803374, 39.9966522], [-105.2801949, 39.9965507], [-105.2801949, 39.9965507], [-105.2802179, 39.9964875], [-105.2802408, 39.9964173], [-105.280293, 39.996355], [-105.2803594, 39.996283], [-105.2804159, 39.9961851], [-105.280508, 39.9960399], [-105.2806459, 39.9957939], [-105.2808521, 39.995585], [-105.2811248, 39.9954084], [-105.2812848, 39.9953085], [-105.2815101, 39.9950104], [-105.2815462, 39.9949574], [-105.2815462, 39.9949574], [-105.2815742, 39.9949123], [-105.2816659, 39.9947327], [-105.2817974, 39.9941009], [-105.2821653, 39.9934318], [-105.282171, 39.9930506], [-105.2822742, 39.9928774], [-105.2822742, 39.9928774], [-105.2822477, 39.9928888], [-105.2819825, 39.9929804], [-105.2818777, 39.9928337], [-105.2816038, 39.9929181], [-105.2816038, 39.9929181], [-105.2814228, 39.9929738], [-105.2811366, 39.992986], [-105.2811366, 39.992986], [-105.2815882, 39.9923457], [-105.2816644, 39.9922508], [-105.281667, 39.9921656], [-105.2817323, 39.9912883], [-105.2816819, 39.9905803], [-105.2817655, 39.9903934], [-105.2817472, 39.9902366], [-105.2818655, 39.990069], [-105.281834, 39.9896119], [-105.2820053, 39.9893397], [-105.2821427, 39.9887806], [-105.2823479, 39.9885829], [-105.2823479, 39.9885829], [-105.2826226, 39.9885184], [-105.2833599, 39.9884391], [-105.2835747, 39.9882859], [-105.2842345, 39.9879851], [-105.2844571, 39.9876646], [-105.284601, 39.9875815], [-105.2851843, 39.9875979], [-105.2856349, 39.9875626], [-105.2856349, 39.9875626], [-105.2857984, 39.9874925], [-105.2857984, 39.9874925], [-105.2860562, 39.9873506], [-105.2860974, 39.9870759], [-105.2861674, 39.9867474], [-105.2861657, 39.9864439], [-105.285889, 39.9859839], [-105.285871, 39.9856963], [-105.2858874, 39.9855816], [-105.2858874, 39.9855816], [-105.2859534, 39.9854553], [-105.2859534, 39.9854553], [-105.2858392, 39.9854904], [-105.2857155, 39.9855191], [-105.285597, 39.985559], [-105.285423, 39.985595], [-105.285246, 39.985686], [-105.285034, 39.985756], [-105.284193, 39.986138], [-105.284049, 39.986162], [-105.283606, 39.986272], [-105.283348, 39.986301], [-105.283111, 39.986361], [-105.282586, 39.986392], [-105.282514, 39.986409], [-105.282364, 39.986472], [-105.282108, 39.986547], [-105.28189, 39.986583], [-105.28176, 39.986645], [-105.281669, 39.986731], [-105.281583, 39.986786], [-105.28085, 39.987033], [-105.280723, 39.987094], [-105.28059, 39.9872539], [-105.2804274, 39.9873723], [-105.2802188, 39.9874897], [-105.2802188, 39.9874897], [-105.2801055, 39.9874893], [-105.2799129, 39.9875004], [-105.279716, 39.9875154], [-105.2795968, 39.9874952], [-105.2793384, 39.987401], [-105.2792449, 39.9873216], [-105.2790009, 39.9869553], [-105.2790009, 39.9869553], [-105.2790738, 39.9868943], [-105.2793167, 39.9869481], [-105.2794886, 39.986934], [-105.2796613, 39.9868786], [-105.2798286, 39.9867715], [-105.2799198, 39.9866996], [-105.2800003, 39.9866082], [-105.2799842, 39.9864714], [-105.2799627, 39.9863995], [-105.2799352, 39.9863423], [-105.2798936, 39.9862452], [-105.2798936, 39.9862452], [-105.279923, 39.986175], [-105.279959, 39.986091], [-105.280058, 39.985994], [-105.280135, 39.985954], [-105.280275, 39.985908], [-105.280677, 39.985819], [-105.280867, 39.98575], [-105.281185, 39.985699], [-105.281403, 39.985638], [-105.281701, 39.985521], [-105.281831, 39.985487], [-105.282174, 39.985469], [-105.2824625, 39.9853658], [-105.282748, 39.985295], [-105.28286, 39.985249], [-105.2829758, 39.9851602], [-105.2831508, 39.9850647], [-105.283328, 39.984921], [-105.2834044, 39.9848864], [-105.2834661, 39.9848822], [-105.2834969, 39.9848997], [-105.2834902, 39.9849295], [-105.2834661, 39.9849603], [-105.2834366, 39.9849963], [-105.2834423, 39.9850096], [-105.2834584, 39.985023], [-105.2834817, 39.9850229], [-105.2835331, 39.9850045], [-105.283588, 39.985009], [-105.28368, 39.985005], [-105.2837664, 39.9849958], [-105.283836, 39.984966], [-105.2839546, 39.9848726], [-105.284034, 39.984842], [-105.2846428, 39.9846739], [-105.2849559, 39.9845913], [-105.2851002, 39.9845368], [-105.2851357, 39.9845424], [-105.2851317, 39.9845689], [-105.2849945, 39.9846723], [-105.2848176, 39.9847938], [-105.2848095, 39.9848187], [-105.2848217, 39.984828], [-105.285037, 39.984753], [-105.285448, 39.984642], [-105.28571, 39.984606], [-105.286338, 39.984572], [-105.286549, 39.984528], [-105.286639, 39.984492], [-105.286704, 39.984414], [-105.286676, 39.984359], [-105.286402, 39.984183], [-105.286359, 39.984123], [-105.286355, 39.984033], [-105.286374, 39.983995], [-105.286532, 39.983844], [-105.286721, 39.983689], [-105.286917, 39.983467], [-105.287015, 39.983328], [-105.2870649, 39.9832657], [-105.2870451, 39.9832017], [-105.286974, 39.983154], [-105.2869, 39.983111], [-105.286743, 39.983055], [-105.285994, 39.982911], [-105.285599, 39.982856], [-105.285429, 39.982803], [-105.285365, 39.982757], [-105.285336, 39.982694], [-105.285339, 39.982463], [-105.2852862, 39.9823501], [-105.285329, 39.982294], [-105.285329, 39.982294], [-105.285245, 39.982189], [-105.285123, 39.981942], [-105.2850331, 39.9818228], [-105.2848944, 39.9816513], [-105.2848057, 39.981517], [-105.2847106, 39.9813596], [-105.2845811, 39.9811607], [-105.2844329, 39.980984], [-105.2842899, 39.9808177], [-105.284184, 39.9807387], [-105.2840608, 39.9806003], [-105.2839651, 39.9804729], [-105.2838693, 39.9802858], [-105.2839097, 39.9801063], [-105.2840563, 39.9798907], [-105.2841448, 39.979777], [-105.2842901, 39.9797269], [-105.2845093, 39.9796464], [-105.2845093, 39.9796464], [-105.284692, 39.9795277], [-105.284692, 39.9795277], [-105.2847404, 39.9794295], [-105.2848444, 39.9793347], [-105.2848592, 39.9792793], [-105.2848706, 39.9792117], [-105.2847548, 39.9792628], [-105.2846875, 39.979291], [-105.284619, 39.979305], [-105.284482, 39.979246], [-105.28433, 39.979212], [-105.284082, 39.979213], [-105.28394, 39.979184], [-105.283815, 39.979103], [-105.283815, 39.979103], [-105.283844, 39.9790453], [-105.2838476, 39.9789253], [-105.2839296, 39.9786296], [-105.2839698, 39.9784078], [-105.2842185, 39.9779864], [-105.2842185, 39.9779864], [-105.284376, 39.9776699], [-105.2844058, 39.9774909], [-105.2842958, 39.9772894], [-105.284289, 39.9770037], [-105.2841919, 39.9766723], [-105.2842422, 39.9765372], [-105.2841786, 39.976425], [-105.2840061, 39.9763169], [-105.2837795, 39.9762621], [-105.2834169, 39.9760385], [-105.2831808, 39.9758083], [-105.2830413, 39.9755781], [-105.2829554, 39.9753892], [-105.282956, 39.9751948], [-105.2830843, 39.9750191], [-105.2831433, 39.9747498], [-105.2832403, 39.974541], [-105.2833329, 39.9742663], [-105.2836467, 39.9740888], [-105.2836529, 39.9740489], [-105.2835768, 39.9739644], [-105.2836026, 39.9738767], [-105.2837164, 39.9737548], [-105.283771, 39.9736394], [-105.2837631, 39.9735785], [-105.2837631, 39.9735785], [-105.2838774, 39.9734936], [-105.2840344, 39.9733629], [-105.2840949, 39.973268], [-105.2841495, 39.9731761], [-105.2841753, 39.9730803], [-105.284225, 39.9729818], [-105.2842665, 39.9728941], [-105.2842571, 39.9728078], [-105.2842571, 39.9728078], [-105.2841419, 39.9727673], [-105.2841419, 39.9727673], [-105.2840519, 39.9727536], [-105.2836973, 39.9728428], [-105.2835984, 39.9728494], [-105.283527, 39.9728346], [-105.2833591, 39.9727326], [-105.2831475, 39.9724647], [-105.283037, 39.9722917], [-105.2829121, 39.9721476], [-105.2828112, 39.97209], [-105.2827872, 39.9719843], [-105.2827393, 39.9717916], [-105.2825583, 39.9717079], [-105.28248, 39.9716444], [-105.282412, 39.9715403], [-105.2824107, 39.9714385], [-105.2824461, 39.9712541], [-105.2825086, 39.9707977], [-105.2825403, 39.9706602], [-105.2826142, 39.9706007], [-105.282744, 39.9706055], [-105.2829649, 39.9707256], [-105.2832314, 39.9709141], [-105.283362, 39.971056], [-105.2834071, 39.9710857], [-105.28344, 39.9711074], [-105.2835991, 39.9711676], [-105.2836615, 39.9711532], [-105.2837024, 39.9710544], [-105.2836891, 39.970967], [-105.2836401, 39.9708497], [-105.2835949, 39.9707453], [-105.2835239, 39.9706043], [-105.2834569, 39.9704934], [-105.2834265, 39.9702427], [-105.2834742, 39.9701683], [-105.283524, 39.9700218], [-105.2835195, 39.9699159], [-105.2834912, 39.9698178], [-105.2834394, 39.96973], [-105.2833662, 39.9695888], [-105.2833662, 39.9695888], [-105.2832606, 39.9694944], [-105.2831239, 39.9694503], [-105.2829656, 39.9694379], [-105.282629, 39.9693927], [-105.2823071, 39.9694009], [-105.2820145, 39.9694202], [-105.2820145, 39.9694202], [-105.2819534, 39.9693819], [-105.2819874, 39.9692126], [-105.2819791, 39.969025], [-105.2820043, 39.9688554], [-105.2819185, 39.9686636], [-105.281872, 39.9684315], [-105.2818064, 39.9682599], [-105.2817385, 39.9679948], [-105.281599, 39.9676084], [-105.2814917, 39.9673124], [-105.2813914, 39.9670284], [-105.2813562, 39.9668346], [-105.2812688, 39.9664415], [-105.2811898, 39.9661258], [-105.2811805, 39.9659589], [-105.2812944, 39.965801], [-105.2814798, 39.9657516], [-105.2816965, 39.9656725], [-105.2819792, 39.9655013], [-105.2822231, 39.9654542], [-105.2824287, 39.9653515], [-105.2826336, 39.9651252], [-105.282857, 39.9650318], [-105.2831557, 39.9648733], [-105.2832921, 39.964679], [-105.2833217, 39.9645726], [-105.2829609, 39.9646039], [-105.2824341, 39.9645969], [-105.2821507, 39.9647361], [-105.2817358, 39.9648191], [-105.2811897, 39.9647582], [-105.2810418, 39.9646711], [-105.2810223, 39.9645679], [-105.2810223, 39.9645679], [-105.282355, 39.964154], [-105.2829573, 39.9640579], [-105.2836744, 39.964085], [-105.2841591, 39.9639317], [-105.2845212, 39.9639173], [-105.2848413, 39.9639573], [-105.2851593, 39.9640821], [-105.2854292, 39.9644721], [-105.2854568, 39.9647102], [-105.2853984, 39.9649008], [-105.2853416, 39.9650779], [-105.2851848, 39.9651019], [-105.2850245, 39.9651139], [-105.285005, 39.9653789], [-105.2854432, 39.9654901], [-105.2854432, 39.9654901], [-105.2854582, 39.9654814], [-105.2855775, 39.9654348], [-105.2858984, 39.9654671], [-105.2859661, 39.9654327], [-105.2863229, 39.9653746], [-105.2866047, 39.9653421], [-105.2868059, 39.965304], [-105.2870129, 39.9653293], [-105.2872932, 39.9652438], [-105.2874437, 39.9650574], [-105.2875893, 39.9649579], [-105.2877243, 39.9649455], [-105.2879119, 39.964959], [-105.2880405, 39.9651084], [-105.2881695, 39.965098], [-105.2883955, 39.9652401], [-105.2885124, 39.9652211], [-105.2886154, 39.9651209], [-105.2887983, 39.9650995], [-105.288853, 39.9651997], [-105.2890315, 39.9652493], [-105.2890389, 39.9651689], [-105.2892932, 39.9650425], [-105.2893685, 39.9650852], [-105.2894579, 39.9650586], [-105.2895402, 39.9651009], [-105.2896963, 39.9650871], [-105.2898026, 39.965202], [-105.2898387, 39.9651535], [-105.2899873, 39.9651692], [-105.2900492, 39.9651166], [-105.2901523, 39.965222], [-105.290325, 39.9651619], [-105.2904247, 39.965218], [-105.2904607, 39.9651475], [-105.2905214, 39.96526], [-105.2906368, 39.9652402], [-105.2906789, 39.9651603], [-105.2907181, 39.9651906], [-105.2907305, 39.9652328], [-105.2908424, 39.9652198], [-105.2908926, 39.9652387], [-105.2909268, 39.9653005], [-105.2910481, 39.9652658], [-105.2911314, 39.9651765], [-105.2911492, 39.9652648], [-105.2912344, 39.9651525], [-105.2912697, 39.9653197], [-105.2913468, 39.9652314], [-105.2913601, 39.965334], [-105.291415, 39.9653145], [-105.2913499, 39.9654463], [-105.2913599, 39.9655196], [-105.2914443, 39.9654809], [-105.2914287, 39.9655457], [-105.291502, 39.9655191], [-105.291505, 39.9655701], [-105.2915683, 39.9655144], [-105.2915752, 39.9655733], [-105.2916571, 39.9655453], [-105.2916919, 39.9654787], [-105.2917476, 39.9655225], [-105.2918144, 39.9654938], [-105.2917933, 39.9655727], [-105.2918765, 39.9655578], [-105.2918703, 39.9656795], [-105.2920443, 39.9656637], [-105.2921872, 39.9656512], [-105.2923149, 39.965627], [-105.2923391, 39.9655766], [-105.2924645, 39.9654766], [-105.2924758, 39.9654168], [-105.2925697, 39.9654134], [-105.2926108, 39.9653246], [-105.292664, 39.9653249], [-105.2927456, 39.9652731], [-105.2927799, 39.9652239], [-105.2928369, 39.9651669], [-105.292956, 39.9650699], [-105.2929895, 39.9650031], [-105.2929965, 39.9649242], [-105.2930781, 39.9648729], [-105.2930964, 39.9648199], [-105.293141, 39.9647841], [-105.2931398, 39.964724], [-105.2932367, 39.9646989], [-105.2932987, 39.964602], [-105.2933314, 39.9645578], [-105.2933947, 39.9644567], [-105.293495, 39.9643623], [-105.2935625, 39.9642764], [-105.2935915, 39.9641703], [-105.2937137, 39.9640759], [-105.2938559, 39.9640029], [-105.2939653, 39.9639836], [-105.2940939, 39.9639245], [-105.2942101, 39.9638019], [-105.294269, 39.9636819], [-105.2944459, 39.9635681], [-105.2945335, 39.9634436], [-105.2945157, 39.9633759], [-105.2945051, 39.9633085], [-105.2946587, 39.9632505], [-105.2947101, 39.9632073], [-105.2946994, 39.9631847], [-105.2947114, 39.9630893], [-105.2948423, 39.9629582], [-105.2948402, 39.9628764], [-105.2948687, 39.9628394], [-105.2949081, 39.9627791], [-105.2949056, 39.9626846], [-105.2948469, 39.9625493], [-105.2948711, 39.9625053], [-105.294855, 39.9624472], [-105.2948966, 39.9623336], [-105.2948677, 39.9622777], [-105.2948939, 39.9621877], [-105.2948711, 39.9621239], [-105.2948885, 39.9620067], [-105.2948499, 39.9619194], [-105.294863, 39.9618042], [-105.2948006, 39.9617545], [-105.2948389, 39.9615966], [-105.2947805, 39.9615231], [-105.294782, 39.9614141], [-105.2948341, 39.9612838], [-105.2947825, 39.9612535], [-105.2947695, 39.9611132], [-105.2948987, 39.9609527], [-105.2949028, 39.9608757], [-105.2949784, 39.9608036], [-105.2950224, 39.9607001], [-105.2950404, 39.9606443], [-105.2950316, 39.9605491], [-105.2950316, 39.9605491], [-105.2951122, 39.9605366], [-105.29526, 39.9603985], [-105.2953209, 39.9603206], [-105.2953452, 39.9602403], [-105.2953452, 39.9602403], [-105.2953093, 39.9601378], [-105.2953736, 39.9600622], [-105.2954742, 39.9598736], [-105.2954631, 39.9597167], [-105.2955113, 39.959689], [-105.295527, 39.9595343], [-105.2954806, 39.9593896], [-105.2954271, 39.9592503], [-105.2954398, 39.9588629], [-105.2955128, 39.9586957], [-105.2955396, 39.9585097], [-105.2956094, 39.9583267], [-105.2958011, 39.9580296], [-105.2958684, 39.9578108], [-105.2959688, 39.9576195], [-105.2961018, 39.9574595], [-105.2963901, 39.9571924], [-105.2963926, 39.9571075], [-105.2964677, 39.9570345], [-105.296473, 39.9569728], [-105.2965077, 39.9569349], [-105.2966834, 39.9569236], [-105.2967398, 39.956864], [-105.2968441, 39.9568659], [-105.2970612, 39.9567674], [-105.2971418, 39.9567405], [-105.297205, 39.9566812]]\n"
     ]
    }
   ],
   "source": [
    "encoded_polyline = polyline.encode(coordinates[0])\n",
    "js_coordinates = '[' + ', '.join(['[' + str(lon) + ', ' + str(lat) + ']' for lat, lon in coordinates[0]]) + ']'\n",
    "print(js_coordinates)"
   ]
  },
  {
   "cell_type": "code",
   "execution_count": null,
   "metadata": {},
   "outputs": [],
   "source": [
    "####EXPERIMENTATION AREA AFTER THIS"
   ]
  },
  {
   "cell_type": "code",
   "execution_count": 210,
   "metadata": {},
   "outputs": [
    {
     "name": "stdout",
     "output_type": "stream",
     "text": [
      "6634\n"
     ]
    }
   ],
   "source": [
    "## experiment code to get all the trails possible\n",
    "\n",
    "def dfs_find_all_trails(G, start_node, current_path=[]):\n",
    "    # Add the start_node to the current path\n",
    "    current_path = current_path + [start_node]\n",
    "\n",
    "    # If no more successors, return the current path\n",
    "    if len(list(G.successors(start_node))) == 0:\n",
    "        return [current_path]\n",
    "\n",
    "    paths = []\n",
    "    for node in G.successors(start_node):\n",
    "        # Check if the node has already been visited in the current path to avoid cycles\n",
    "        if node not in current_path: \n",
    "            newpaths = dfs_find_all_trails(G, node, current_path)\n",
    "            paths.extend(newpaths)\n",
    "\n",
    "    return paths\n",
    "\n",
    "# Assuming G is your graph\n",
    "all_trails = []\n",
    "for start_node in G.nodes():\n",
    "    all_trails.extend(dfs_find_all_trails(G, start_node))\n",
    "\n",
    "# all_trails now contains all possible trails in the graph\n",
    "print(len(all_trails))\n"
   ]
  },
  {
   "cell_type": "code",
   "execution_count": null,
   "metadata": {},
   "outputs": [],
   "source": []
  }
 ],
 "metadata": {
  "kernelspec": {
   "display_name": "Python 3",
   "language": "python",
   "name": "python3"
  },
  "language_info": {
   "codemirror_mode": {
    "name": "ipython",
    "version": 3
   },
   "file_extension": ".py",
   "mimetype": "text/x-python",
   "name": "python",
   "nbconvert_exporter": "python",
   "pygments_lexer": "ipython3",
   "version": "3.11.6"
  }
 },
 "nbformat": 4,
 "nbformat_minor": 2
}
