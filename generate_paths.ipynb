{
 "cells": [
  {
   "cell_type": "code",
   "execution_count": 229,
   "metadata": {},
   "outputs": [],
   "source": [
    "#Code which generates the relation graph with both broken ways, and original ways\n",
    "#Keep in mind, we are going to ignore the original ways which were broken down. We need to filter them.\n",
    "\n",
    "import json\n",
    "import networkx as nx\n",
    "import matplotlib.pyplot as plt\n",
    "from geopy.distance import geodesic\n",
    "import folium\n",
    "import polyline"
   ]
  },
  {
   "cell_type": "code",
   "execution_count": 151,
   "metadata": {},
   "outputs": [
    {
     "name": "stdout",
     "output_type": "stream",
     "text": [
      "Original keys:  219\n",
      "Broken keys:  789\n",
      "All keys after merging:  1008\n",
      "Num of keys in final object:  336\n"
     ]
    }
   ],
   "source": [
    "\n",
    "# Load data\n",
    "with open('way_objects.json') as fp:\n",
    "    way_objects = json.load(fp)\n",
    "\n",
    "with open('broken_way_objects.json') as fp:\n",
    "    broken_way_objects = json.load(fp)\n",
    "\n",
    "keyset = list(way_objects.keys())\n",
    "print(\"Original keys: \",len(keyset) )\n",
    "print(\"Broken keys: \",len(broken_way_objects.keys()) )\n",
    "\n",
    "for newkey in broken_way_objects.keys():\n",
    "    original_key = newkey.split(\"_\")[0]\n",
    "    if(original_key in keyset):\n",
    "        keyset.remove(original_key)\n",
    "    keyset.append(newkey)\n",
    "\n",
    "#lets combine two objects now\n",
    "broken_way_objects.update(way_objects)\n",
    "#lets remove keys which we do not need now\n",
    "print(\"All keys after merging: \",len(broken_way_objects.keys()) )\n",
    "\n",
    "with open('way_metrics.json') as fp:\n",
    "    way_metrics = json.load(fp)\n",
    "\n",
    "# ^ this will determine the final keyset\n",
    "new_ways = {}\n",
    "for key in list(way_metrics.keys()):\n",
    "    new_ways[key] = broken_way_objects[key]\n",
    "\n",
    "print(\"Num of keys in final object: \",len(new_ways.keys()) )\n",
    "\n",
    "\n"
   ]
  },
  {
   "cell_type": "code",
   "execution_count": 152,
   "metadata": {},
   "outputs": [
    {
     "name": "stdout",
     "output_type": "stream",
     "text": [
      "336\n"
     ]
    }
   ],
   "source": [
    "print(len(set(new_ways.keys())))"
   ]
  },
  {
   "cell_type": "code",
   "execution_count": 153,
   "metadata": {},
   "outputs": [],
   "source": [
    "\n",
    "G = nx.DiGraph()\n",
    "\n",
    "# Define a function to check if two points are within 10 meters\n",
    "def is_within_distance(point1, point2, distance_m=10):\n",
    "    return geodesic(point1, point2).meters <= distance_m\n",
    "\n",
    "way_relations = {}\n",
    "not_first_ways = [] #stores all the ways which are never first i.e children\n",
    "\n",
    "# Create nodes for each way ID\n",
    "for wayid in new_ways:\n",
    "    way_relations[wayid] = []\n",
    "    G.add_node(wayid)\n",
    "\n",
    "# Create edges based on proximity\n",
    "for wayid, coordinates in new_ways.items():\n",
    "    end_point = tuple(coordinates[-1])\n",
    "    for other_wayid, other_coordinates in new_ways.items():\n",
    "        if wayid != other_wayid:\n",
    "            start_point_other = tuple(other_coordinates[0])\n",
    "            if is_within_distance(end_point, start_point_other):\n",
    "                way_relations[wayid].append(other_wayid)\n",
    "                not_first_ways.append(other_wayid)\n",
    "                G.add_edge(wayid, other_wayid)\n",
    "\n"
   ]
  },
  {
   "cell_type": "code",
   "execution_count": 154,
   "metadata": {},
   "outputs": [],
   "source": [
    "def find_root_nodes(G):\n",
    "    \"\"\"Find all nodes in the graph G that have no parents.\"\"\"\n",
    "    return [node for node in G if G.in_degree(node) == 0]\n",
    "\n",
    "def find_leaf_nodes(G):\n",
    "    \"\"\"Find all nodes in the graph G that have no children.\"\"\"\n",
    "    return [node for node in G if G.out_degree(node) == 0]\n",
    "\n",
    "def find_paths(G, start_node, end_nodes, path=[]):\n",
    "    \"\"\"Find all paths from start_node to any of the end_nodes, without revisiting nodes.\"\"\"\n",
    "    path = path + [start_node]\n",
    "    if start_node in end_nodes:\n",
    "        return [path]\n",
    "    paths = []\n",
    "    for node in G.successors(start_node):\n",
    "        if node not in path:\n",
    "            newpaths = find_paths(G, node, end_nodes, path)\n",
    "            for newpath in newpaths:\n",
    "                paths.append(newpath)\n",
    "    return paths\n",
    "    \n"
   ]
  },
  {
   "cell_type": "code",
   "execution_count": 200,
   "metadata": {},
   "outputs": [
    {
     "name": "stdout",
     "output_type": "stream",
     "text": [
      "All the different ways in the map:  336\n",
      "All the ways which have a parent:  266\n",
      "All the ways which do not have a parent:  70\n"
     ]
    }
   ],
   "source": [
    "#lets get the list of ways which mark the beginning of the tree\n",
    "all_ways = set(new_ways.keys())\n",
    "not_first_ways = set(not_first_ways)\n",
    "first_ways = all_ways - not_first_ways\n",
    "print(\"All the different ways in the map: \", len(all_ways))\n",
    "print(\"All the ways which have a parent: \", len(not_first_ways))\n",
    "print(\"All the ways which do not have a parent: \" , len(first_ways)) \n",
    "\n",
    "first_way_objects = {x: new_ways[x] for x in new_ways.keys() if x  in first_ways}\n",
    "\n",
    "with open('first_way_objects_after_break.json', 'w+') as fp:\n",
    "    json.dump(first_way_objects, fp)\n",
    "\n",
    "avg_lat = sum(coord[0] for  wayid, coordinates in first_way_objects.items() for coord in coordinates) / sum(len(coordinates) for wayid, coordinates in first_way_objects.items())\n",
    "avg_lon = sum(coord[1] for  wayid, coordinates in first_way_objects.items() for coord in coordinates) / sum(len(coordinates) for wayid, coordinates in first_way_objects.items())\n",
    "map_osm = folium.Map(location=[avg_lat, avg_lon], zoom_start=14)\n",
    "\n",
    "\n",
    "way_objects = {}\n",
    "for wayid, coordinates in new_ways.items():\n",
    "    # Extract the coordinates for the way\n",
    "    # Create a polyline with the coordinates and add to the map\n",
    "    \n",
    "    #storing it in the temporary database\n",
    "    # way_objects[wayid] = coordinates\n",
    "\n",
    "    folium.PolyLine(coordinates, color=\"orange\", weight=2.5, opacity=1).add_to(map_osm)\n",
    "    # Optionally, add a marker for the first node of the way with a popup for the way ID\n",
    "    folium.Marker(\n",
    "        [coordinates[0][0], coordinates[0][1]],\n",
    "        popup=f\"Start Way ID: {wayid}\"\n",
    "    ).add_to(map_osm)\n",
    "\n",
    "\n",
    "# Save to an HTML file\n",
    "output_file = './osm_new_way_after_break_visualization.html'\n",
    "map_osm.save(output_file)\n"
   ]
  },
  {
   "cell_type": "code",
   "execution_count": 156,
   "metadata": {},
   "outputs": [
    {
     "name": "stdout",
     "output_type": "stream",
     "text": [
      "70\n"
     ]
    }
   ],
   "source": [
    "# Assuming G is your DiGraph\n",
    "root_nodes = find_root_nodes(G)\n",
    "leaf_nodes = find_leaf_nodes(G)\n",
    "\n",
    "print(len(root_nodes))"
   ]
  },
  {
   "cell_type": "code",
   "execution_count": 349,
   "metadata": {},
   "outputs": [],
   "source": [
    "\n",
    "\n",
    "def calculate_distance_elevation(wayid):\n",
    "    \"\"\"\n",
    "    Calculate the total distance and elevation gain of a way.\n",
    "    way_coordinates: List of (latitude, longitude) tuples.\n",
    "    elevations: List of elevations corresponding to each coordinate.\n",
    "    \"\"\"\n",
    "    total_distance = way_metrics[wayid]['distance']  # Total distance in meters\n",
    "    total_elevation_gain = way_metrics[wayid]['gain']  # Total elevation gain in meters\n",
    "\n",
    "    return [total_distance, total_elevation_gain]\n",
    "\n",
    "def dfs_find_trails(G, start_node, target_distance, target_elevation_gain, current_path=None, current_distance=0, current_elevation=0, distance_tolerance=50, elevation_tolerance=100):\n",
    "    if current_path is None:\n",
    "        current_path = []\n",
    "\n",
    "    # Add the start_node to the current path\n",
    "    current_path.append(start_node)\n",
    "\n",
    "    # Calculate the distance and elevation for the new way\n",
    "    way_distance, way_elevation = calculate_distance_elevation(start_node)\n",
    "    new_distance = current_distance + way_distance\n",
    "    new_elevation = current_elevation + way_elevation\n",
    "\n",
    "    # Check if the current path meets the distance and elevation criteria within the tolerances\n",
    "    if new_distance >= target_distance - distance_tolerance and new_distance <= target_distance + distance_tolerance and new_elevation >= target_elevation_gain - elevation_tolerance and new_elevation <= target_elevation_gain + elevation_tolerance:\n",
    "        return [current_path.copy()]  # Return a copy to avoid mutating the original list\n",
    "\n",
    "    paths = []\n",
    "    if new_distance <= target_distance + distance_tolerance and new_elevation <= target_elevation_gain + elevation_tolerance:\n",
    "        for node in G.successors(start_node):\n",
    "            # Check if the node has already been visited in the current path\n",
    "            if node not in current_path:\n",
    "                # Continue the search if the new distance and elevation are within tolerance\n",
    "                sub_paths = dfs_find_trails(G, node, target_distance, target_elevation_gain, current_path.copy(), new_distance, new_elevation, distance_tolerance, elevation_tolerance)\n",
    "                paths.extend(sub_paths)\n",
    "\n",
    "    # No need to backtrack because we're working with a copy of the path\n",
    "    return paths\n",
    "\n"
   ]
  },
  {
   "cell_type": "code",
   "execution_count": 273,
   "metadata": {},
   "outputs": [
    {
     "name": "stdout",
     "output_type": "stream",
     "text": [
      "['36006153_0', '59878931_1', '73579855_0', '73579864_0', '73579928_0', '73622155_0', '73680752_2', '73680766_0', '73680792_0', '73680802_2', '73680807_0', '73680820_0', '73680845_2', '73680850_0', '73680855_0', '73680863_1', '73680875_0', '73680877_1', '73680902_0', '73680929_1', '73680951_1', '73680955_0', '73681015_0', '73681079_0', '73681083_0', '97309332_0', '97918391_0', '105107028_1', '113660806_0', '116417122_0', '129859895_1', '198354140_0', '264409328_0', '311287374_1', '342856328_0', '342856334_1', '342860382_1', '342860611_0', '343270417_1', '361823723_0', '361823725_1', '364951580_0', '400679135_0', '437190620_0', '442967665_0', '442967666_0', '471348777_0', '517774838_0', '521978877_0', '522322511_0', '544660536_0', '837711407_0', '937982930_0', '963610548_1', '963610550_1', '963610552_0', '963610553_0', '963610554_0', '963610557_0', '963610558_0', '993367635_0', '996186621_0', '996186629_0', '997648059_0', '1008955114_0', '1149770527_0', '1149770528_0', '1149772390_0', '1190224884_0', '1190224885_0']\n",
      "70\n"
     ]
    }
   ],
   "source": [
    "# Assuming G is your DiGraph and new_ways contains way data\n",
    "root_nodes = [node for node in G if G.in_degree(node) == 0]\n",
    "print(root_nodes)\n",
    "print(len(root_nodes))\n",
    "\n",
    "\n",
    "# Now all_trails contains paths that meet the criteria"
   ]
  },
  {
   "cell_type": "code",
   "execution_count": 351,
   "metadata": {},
   "outputs": [
    {
     "name": "stdout",
     "output_type": "stream",
     "text": [
      "28\n"
     ]
    }
   ],
   "source": [
    "all_trails = []\n",
    "distance_in_meters = 1000\n",
    "vert_in_meters = 400\n",
    "for root in range(len(root_nodes)):\n",
    "    all_trails.extend(dfs_find_trails(G, root_nodes[root], distance_in_meters, vert_in_meters, distance_tolerance=300, elevation_tolerance =300))\n",
    "\n",
    "print(len(all_trails))"
   ]
  },
  {
   "cell_type": "code",
   "execution_count": 352,
   "metadata": {},
   "outputs": [
    {
     "name": "stdout",
     "output_type": "stream",
     "text": [
      "28\n",
      "Trail Distance: 1828.2069612645057 Trail Elevation: 334.0\n",
      "Trail Distance: 1153.4238789082046 Trail Elevation: 107.0\n",
      "Trail Distance: 2308.0513329171345 Trail Elevation: 192.0\n",
      "Trail Distance: 1224.7211433195544 Trail Elevation: 100.0\n",
      "Trail Distance: 1843.4044018395919 Trail Elevation: 395.0\n",
      "Trail Distance: 1667.0899691965758 Trail Elevation: 395.0\n",
      "Trail Distance: 2038.469077439693 Trail Elevation: 117.0\n",
      "Trail Distance: 879.6020226569586 Trail Elevation: 106.0\n",
      "Trail Distance: 1283.9112742851278 Trail Elevation: 133.0\n",
      "Trail Distance: 1037.4273586812694 Trail Elevation: 135.0\n",
      "Trail Distance: 1037.3344796959082 Trail Elevation: 135.0\n",
      "Trail Distance: 2084.4084001469496 Trail Elevation: 126.0\n",
      "Trail Distance: 2269.036770551839 Trail Elevation: 125.0\n",
      "Trail Distance: 1125.7833230121043 Trail Elevation: 206.0\n",
      "Trail Distance: 1264.4329455932436 Trail Elevation: 133.0\n",
      "Trail Distance: 1353.3562595823046 Trail Elevation: 112.0\n",
      "Trail Distance: 1330.5368871424998 Trail Elevation: 133.0\n",
      "Trail Distance: 995.600464760587 Trail Elevation: 133.0\n",
      "Trail Distance: 1211.5954760039108 Trail Elevation: 112.0\n",
      "Trail Distance: 1573.3580745146978 Trail Elevation: 120.0\n",
      "Trail Distance: 954.3475090346152 Trail Elevation: 141.0\n",
      "Trail Distance: 1112.4306260455965 Trail Elevation: 104.0\n",
      "Trail Distance: 985.3589287913346 Trail Elevation: 104.0\n",
      "Trail Distance: 1352.6849327300508 Trail Elevation: 150.0\n",
      "Trail Distance: 1836.9765010140845 Trail Elevation: 200.0\n",
      "Trail Distance: 1325.6909730019272 Trail Elevation: 302.0\n",
      "Trail Distance: 1119.2341006096726 Trail Elevation: 117.0\n",
      "Trail Distance: 1105.3637049469041 Trail Elevation: 117.0\n"
     ]
    }
   ],
   "source": [
    "\n",
    "print(len(all_trails))\n",
    "# Create a Folium map\n",
    "# Initialize the map with a central location\n",
    "# map_center = [first_line.coords[0][0], first_line.coords[0][1]]\n",
    "\n",
    "map_center = [40.014984,-105.270546 ]\n",
    "m = folium.Map(location=map_center, zoom_start=13)\n",
    "\n",
    "# Function to add a trail to the map\n",
    "def add_trail_to_map(trail_coordinates, map_object):\n",
    "    # trail is a list of coordinates [(lat, lon), (lat, lon), ...]\n",
    "        # Extract start and end coordinates of the trail\n",
    "    start_coord = trail_coordinates[0]  # First coordinate of the first way\n",
    "    end_coord = trail_coordinates[-1]  # Last coordinate of the last way\n",
    "\n",
    "    # Add markers for start and end points\n",
    "    folium.Marker(\n",
    "        start_coord,\n",
    "        popup=\"Start\",\n",
    "        icon=folium.Icon(color='green', icon='play')\n",
    "    ).add_to(map_object)\n",
    "\n",
    "    folium.Marker(\n",
    "        end_coord,\n",
    "        popup=\"End\",\n",
    "        icon=folium.Icon(color='red', icon='stop')\n",
    "    ).add_to(map_object)\n",
    "\n",
    "\n",
    "    folium.PolyLine(trail_coordinates, color='blue', weight=2.5, opacity=1).add_to(map_object)\n",
    "\n",
    "\n",
    "polylines = []\n",
    "coordinates = []\n",
    "# Add each trail to the map\n",
    "for trail_set in all_trails:  # Assuming all_trails is a list of trails\n",
    "    trail_coordinates = []\n",
    "    for each_trail in trail_set:\n",
    "        trail_coordinates.extend(new_ways[each_trail])  # Convert way IDs to coordinates\n",
    "\n",
    "\n",
    "    #printout info about that trail\n",
    "    dist,ele = get_distance_elevation(trail_coordinates)\n",
    "    # geojson_polyline = coordinates_to_geojson(coordinates)\n",
    "\n",
    "    coordinates.append(trail_coordinates)\n",
    "    polylines.append(geojson_polyline)\n",
    "    print(\"Trail Distance: {} Trail Elevation: {}\".format(dist, ele))\n",
    "\n",
    "    \n",
    "    add_trail_to_map(trail_coordinates, m)\n",
    "\n",
    "# Save or display the map\n",
    "m.save('trails_map.html')\n"
   ]
  },
  {
   "cell_type": "code",
   "execution_count": 223,
   "metadata": {},
   "outputs": [
    {
     "data": {
      "text/plain": [
       "'{\"type\": \"FeatureCollection\", \"features\": [{\"type\": \"Feature\", \"geometry\": {\"type\": \"LineString\", \"coordinates\": [[39.9929181, -105.2816038], [39.9932671, -105.2815745], [39.9933664, -105.2814224], [39.9935854, -105.2812437], [39.9937912, -105.2811471], [39.9941659, -105.2808223], [39.9943909, -105.2807667], [39.9945379, -105.2805338], [39.9947305, -105.2804174], [39.9948349, -105.2804597], [39.9949262, -105.2803631], [39.9950255, -105.2803869], [39.9951573, -105.28024], [39.9953175, -105.2802586], [39.9955391, -105.2800253]]}, \"properties\": {}}]}'"
      ]
     },
     "execution_count": 223,
     "metadata": {},
     "output_type": "execute_result"
    }
   ],
   "source": []
  },
  {
   "cell_type": "code",
   "execution_count": 196,
   "metadata": {},
   "outputs": [],
   "source": [
    "def get_distance_elevation(way_coordinates):\n",
    "    total_distance = 0  # Total distance in meters\n",
    "    total_elevation_gain = 0\n",
    "\n",
    "    for i in range(len(way_coordinates) - 1):\n",
    "        # Calculate distance between consecutive points\n",
    "        point1 = way_coordinates[i]\n",
    "        point2 = way_coordinates[i+1]\n",
    "\n",
    "        distance = geodesic(point1, point2).meters\n",
    "        total_distance += distance\n",
    "\n",
    "    \n",
    "    point1 = way_coordinates[0]\n",
    "    point2 = way_coordinates[-1]\n",
    "\n",
    "\n",
    "    point1_elevation = 0\n",
    "    point2_elevation = 0\n",
    "\n",
    "    api_url = f\"https://api.open-elevation.com/api/v1/lookup?locations={point1[0]},{point1[1]}\"\n",
    "    response = requests.get(api_url)\n",
    "    if response.status_code == 200:\n",
    "        data = response.json()\n",
    "        # Extract elevation from the response\n",
    "        point1_elevation = data['results'][0]['elevation']\n",
    "    else:\n",
    "        point1_elevation = 0\n",
    "\n",
    "    api_url = f\"https://api.open-elevation.com/api/v1/lookup?locations={point2[0]},{point2[1]}\"\n",
    "    response = requests.get(api_url)\n",
    "    if response.status_code == 200:\n",
    "        data = response.json()\n",
    "        # Extract elevation from the response\n",
    "        point2_elevation = data['results'][0]['elevation']\n",
    "    else:\n",
    "        point2_elevation = 0\n",
    "\n",
    "    total_elevation_gain += point2_elevation - point1_elevation\n",
    "    return [total_distance,total_elevation_gain]"
   ]
  },
  {
   "cell_type": "code",
   "execution_count": 340,
   "metadata": {},
   "outputs": [
    {
     "name": "stdout",
     "output_type": "stream",
     "text": [
      "[[-105.3081339, 39.9935708], [-105.3080418, 39.9935211], [-105.308022, 39.9933642], [-105.3079392, 39.9932273], [-105.3077233, 39.9930041], [-105.3073537, 39.9927547], [-105.307094, 39.992491], [-105.3067785, 39.9923217], [-105.3063044, 39.9918131], [-105.3060796, 39.9917691], [-105.3059692, 39.9916999], [-105.3058654, 39.9914894], [-105.3053727, 39.9910843], [-105.3052607, 39.9909411], [-105.3052061, 39.9907418], [-105.3051943, 39.9905486], [-105.3051706, 39.9903629], [-105.3051883, 39.9901102], [-105.3051883, 39.9901102], [-105.3054407, 39.9897611], [-105.3057449, 39.989937], [-105.3062103, 39.9900505], [-105.3063151, 39.9903129], [-105.3063894, 39.9903214], [-105.3065386, 39.9902018], [-105.3067442, 39.9901276], [-105.3068531, 39.9899294], [-105.3069466, 39.989677], [-105.3070727, 39.9895485], [-105.3070927, 39.989423], [-105.3070556, 39.9892832], [-105.3069453, 39.9891877], [-105.3068832, 39.9884199], [-105.3066445, 39.9879532], [-105.3062223, 39.987716], [-105.3057747, 39.9875996], [-105.3056489, 39.9876686], [-105.3055424, 39.9874551], [-105.3053479, 39.9874664], [-105.305241, 39.987364], [-105.3052432, 39.9872367], [-105.3050748, 39.9872061], [-105.3051033, 39.9869802], [-105.304963, 39.9869808], [-105.3047479, 39.9867655], [-105.3046875, 39.9865272], [-105.304493, 39.9862403], [-105.304395, 39.986166], [-105.3043726, 39.9861976], [-105.3042187, 39.9860498], [-105.3040547, 39.985684], [-105.3040615, 39.9854908], [-105.303976, 39.9854324], [-105.3040003, 39.9853483], [-105.30386, 39.9851257], [-105.3037699, 39.9848318], [-105.3037041, 39.9847525], [-105.3036432, 39.9848337], [-105.3035423, 39.9848531], [-105.3034489, 39.9847657], [-105.3034796, 39.9843703], [-105.3033063, 39.9844473], [-105.3033021, 39.9843467], [-105.3030886, 39.9844117], [-105.3029503, 39.9844022], [-105.3026113, 39.9843781], [-105.3025446, 39.9843154], [-105.3026966, 39.9842541], [-105.3029394, 39.9841661], [-105.3031567, 39.9839866], [-105.3032257, 39.9838787], [-105.3032176, 39.9836076], [-105.3034315, 39.9832759], [-105.3036944, 39.9830329], [-105.3037826, 39.9829492], [-105.3039041, 39.9828283], [-105.3039041, 39.9828283], [-105.3039981, 39.9827994], [-105.3042606, 39.9826305], [-105.3044081, 39.9825962], [-105.3044081, 39.9825962], [-105.3045303, 39.9825878], [-105.3046058, 39.982599], [-105.3046412, 39.9826205], [-105.3046657, 39.9826075], [-105.3045746, 39.9824983], [-105.3043495, 39.9824327], [-105.3041226, 39.9823901], [-105.3040033, 39.9823224], [-105.303928, 39.982218], [-105.3038064, 39.9820886], [-105.3037259, 39.9819116], [-105.3036708, 39.9818202], [-105.3036473, 39.981657], [-105.3036341, 39.9815365], [-105.3035573, 39.9814147], [-105.3035256, 39.9812726], [-105.3034137, 39.9811784], [-105.3034027, 39.9811645], [-105.3033641, 39.9811122], [-105.3033341, 39.9808657], [-105.3032991, 39.9806492], [-105.303197, 39.9803889], [-105.3030873, 39.9801831], [-105.3030307, 39.9801214], [-105.3030403, 39.9800391], [-105.3032334, 39.980194], [-105.3034048, 39.9803835], [-105.3035262, 39.9805875], [-105.303636, 39.9808183], [-105.303734, 39.9809203], [-105.3039344, 39.9809611], [-105.3040128, 39.9809909], [-105.3040446, 39.9810473], [-105.3040526, 39.981099], [-105.3040796, 39.9812566], [-105.3041053, 39.9813622], [-105.3042944, 39.981491], [-105.3043726, 39.9815184], [-105.3044532, 39.9815035], [-105.3045627, 39.9814695]]\n"
     ]
    }
   ],
   "source": [
    "encoded_polyline = polyline.encode(coordinates[0])\n",
    "js_coordinates = '[' + ', '.join(['[' + str(lon) + ', ' + str(lat) + ']' for lat, lon in coordinates[0]]) + ']'\n",
    "print(js_coordinates)"
   ]
  },
  {
   "cell_type": "code",
   "execution_count": null,
   "metadata": {},
   "outputs": [],
   "source": [
    "####EXPERIMENTATION AREA AFTER THIS"
   ]
  },
  {
   "cell_type": "code",
   "execution_count": 210,
   "metadata": {},
   "outputs": [
    {
     "name": "stdout",
     "output_type": "stream",
     "text": [
      "6634\n"
     ]
    }
   ],
   "source": [
    "## experiment code to get all the trails possible\n",
    "\n",
    "def dfs_find_all_trails(G, start_node, current_path=[]):\n",
    "    # Add the start_node to the current path\n",
    "    current_path = current_path + [start_node]\n",
    "\n",
    "    # If no more successors, return the current path\n",
    "    if len(list(G.successors(start_node))) == 0:\n",
    "        return [current_path]\n",
    "\n",
    "    paths = []\n",
    "    for node in G.successors(start_node):\n",
    "        # Check if the node has already been visited in the current path to avoid cycles\n",
    "        if node not in current_path: \n",
    "            newpaths = dfs_find_all_trails(G, node, current_path)\n",
    "            paths.extend(newpaths)\n",
    "\n",
    "    return paths\n",
    "\n",
    "# Assuming G is your graph\n",
    "all_trails = []\n",
    "for start_node in G.nodes():\n",
    "    all_trails.extend(dfs_find_all_trails(G, start_node))\n",
    "\n",
    "# all_trails now contains all possible trails in the graph\n",
    "print(len(all_trails))\n"
   ]
  },
  {
   "cell_type": "code",
   "execution_count": null,
   "metadata": {},
   "outputs": [],
   "source": []
  }
 ],
 "metadata": {
  "kernelspec": {
   "display_name": "Python 3",
   "language": "python",
   "name": "python3"
  },
  "language_info": {
   "codemirror_mode": {
    "name": "ipython",
    "version": 3
   },
   "file_extension": ".py",
   "mimetype": "text/x-python",
   "name": "python",
   "nbconvert_exporter": "python",
   "pygments_lexer": "ipython3",
   "version": "3.11.6"
  }
 },
 "nbformat": 4,
 "nbformat_minor": 2
}
