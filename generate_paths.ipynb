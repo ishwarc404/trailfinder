{
 "cells": [
  {
   "cell_type": "code",
   "execution_count": 11,
   "metadata": {},
   "outputs": [],
   "source": [
    "#Code which generates the relation graph with both broken ways, and original ways\n",
    "#Keep in mind, we are going to ignore the original ways which were broken down. We need to filter them.\n",
    "\n",
    "import json\n",
    "import networkx as nx\n",
    "import matplotlib.pyplot as plt\n",
    "from geopy.distance import geodesic\n",
    "import folium\n"
   ]
  },
  {
   "cell_type": "code",
   "execution_count": 151,
   "metadata": {},
   "outputs": [
    {
     "name": "stdout",
     "output_type": "stream",
     "text": [
      "Original keys:  219\n",
      "Broken keys:  789\n",
      "All keys after merging:  1008\n",
      "Num of keys in final object:  336\n"
     ]
    }
   ],
   "source": [
    "\n",
    "# Load data\n",
    "with open('way_objects.json') as fp:\n",
    "    way_objects = json.load(fp)\n",
    "\n",
    "with open('broken_way_objects.json') as fp:\n",
    "    broken_way_objects = json.load(fp)\n",
    "\n",
    "keyset = list(way_objects.keys())\n",
    "print(\"Original keys: \",len(keyset) )\n",
    "print(\"Broken keys: \",len(broken_way_objects.keys()) )\n",
    "\n",
    "for newkey in broken_way_objects.keys():\n",
    "    original_key = newkey.split(\"_\")[0]\n",
    "    if(original_key in keyset):\n",
    "        keyset.remove(original_key)\n",
    "    keyset.append(newkey)\n",
    "\n",
    "#lets combine two objects now\n",
    "broken_way_objects.update(way_objects)\n",
    "#lets remove keys which we do not need now\n",
    "print(\"All keys after merging: \",len(broken_way_objects.keys()) )\n",
    "\n",
    "with open('way_metrics.json') as fp:\n",
    "    way_metrics = json.load(fp)\n",
    "\n",
    "# ^ this will determine the final keyset\n",
    "new_ways = {}\n",
    "for key in list(way_metrics.keys()):\n",
    "    new_ways[key] = broken_way_objects[key]\n",
    "\n",
    "print(\"Num of keys in final object: \",len(new_ways.keys()) )\n",
    "\n",
    "\n"
   ]
  },
  {
   "cell_type": "code",
   "execution_count": 152,
   "metadata": {},
   "outputs": [
    {
     "name": "stdout",
     "output_type": "stream",
     "text": [
      "336\n"
     ]
    }
   ],
   "source": [
    "print(len(set(new_ways.keys())))"
   ]
  },
  {
   "cell_type": "code",
   "execution_count": 153,
   "metadata": {},
   "outputs": [],
   "source": [
    "\n",
    "G = nx.DiGraph()\n",
    "\n",
    "# Define a function to check if two points are within 10 meters\n",
    "def is_within_distance(point1, point2, distance_m=10):\n",
    "    return geodesic(point1, point2).meters <= distance_m\n",
    "\n",
    "way_relations = {}\n",
    "not_first_ways = [] #stores all the ways which are never first i.e children\n",
    "\n",
    "# Create nodes for each way ID\n",
    "for wayid in new_ways:\n",
    "    way_relations[wayid] = []\n",
    "    G.add_node(wayid)\n",
    "\n",
    "# Create edges based on proximity\n",
    "for wayid, coordinates in new_ways.items():\n",
    "    end_point = tuple(coordinates[-1])\n",
    "    for other_wayid, other_coordinates in new_ways.items():\n",
    "        if wayid != other_wayid:\n",
    "            start_point_other = tuple(other_coordinates[0])\n",
    "            if is_within_distance(end_point, start_point_other):\n",
    "                way_relations[wayid].append(other_wayid)\n",
    "                not_first_ways.append(other_wayid)\n",
    "                G.add_edge(wayid, other_wayid)\n",
    "\n"
   ]
  },
  {
   "cell_type": "code",
   "execution_count": 154,
   "metadata": {},
   "outputs": [],
   "source": [
    "def find_root_nodes(G):\n",
    "    \"\"\"Find all nodes in the graph G that have no parents.\"\"\"\n",
    "    return [node for node in G if G.in_degree(node) == 0]\n",
    "\n",
    "def find_leaf_nodes(G):\n",
    "    \"\"\"Find all nodes in the graph G that have no children.\"\"\"\n",
    "    return [node for node in G if G.out_degree(node) == 0]\n",
    "\n",
    "def find_paths(G, start_node, end_nodes, path=[]):\n",
    "    \"\"\"Find all paths from start_node to any of the end_nodes, without revisiting nodes.\"\"\"\n",
    "    path = path + [start_node]\n",
    "    if start_node in end_nodes:\n",
    "        return [path]\n",
    "    paths = []\n",
    "    for node in G.successors(start_node):\n",
    "        if node not in path:\n",
    "            newpaths = find_paths(G, node, end_nodes, path)\n",
    "            for newpath in newpaths:\n",
    "                paths.append(newpath)\n",
    "    return paths\n",
    "    \n"
   ]
  },
  {
   "cell_type": "code",
   "execution_count": 155,
   "metadata": {},
   "outputs": [
    {
     "name": "stdout",
     "output_type": "stream",
     "text": [
      "All the different ways in the map:  336\n",
      "All the ways which have a parent:  266\n",
      "All the ways which do not have a parent:  70\n"
     ]
    }
   ],
   "source": [
    "#lets get the list of ways which mark the beginning of the tree\n",
    "all_ways = set(new_ways.keys())\n",
    "not_first_ways = set(not_first_ways)\n",
    "first_ways = all_ways - not_first_ways\n",
    "print(\"All the different ways in the map: \", len(all_ways))\n",
    "print(\"All the ways which have a parent: \", len(not_first_ways))\n",
    "print(\"All the ways which do not have a parent: \" , len(first_ways)) \n",
    "\n",
    "first_way_objects = {x: new_ways[x] for x in new_ways.keys() if x  in first_ways}\n",
    "\n",
    "with open('first_way_objects_after_break.json', 'w+') as fp:\n",
    "    json.dump(first_way_objects, fp)\n",
    "\n",
    "avg_lat = sum(coord[0] for  wayid, coordinates in first_way_objects.items() for coord in coordinates) / sum(len(coordinates) for wayid, coordinates in first_way_objects.items())\n",
    "avg_lon = sum(coord[1] for  wayid, coordinates in first_way_objects.items() for coord in coordinates) / sum(len(coordinates) for wayid, coordinates in first_way_objects.items())\n",
    "map_osm = folium.Map(location=[avg_lat, avg_lon], zoom_start=14)\n",
    "\n",
    "\n",
    "way_objects = {}\n",
    "for wayid, coordinates in first_way_objects.items():\n",
    "    # Extract the coordinates for the way\n",
    "    # Create a polyline with the coordinates and add to the map\n",
    "    \n",
    "    #storing it in the temporary database\n",
    "    # way_objects[wayid] = coordinates\n",
    "\n",
    "    folium.PolyLine(coordinates, color=\"orange\", weight=2.5, opacity=1).add_to(map_osm)\n",
    "    # Optionally, add a marker for the first node of the way with a popup for the way ID\n",
    "    folium.Marker(\n",
    "        [coordinates[0][0], coordinates[0][1]],\n",
    "        popup=f\"Start Way ID: {wayid}\"\n",
    "    ).add_to(map_osm)\n",
    "\n",
    "\n",
    "# Save to an HTML file\n",
    "output_file = './osm_first_way_after_break_visualization.html'\n",
    "map_osm.save(output_file)\n"
   ]
  },
  {
   "cell_type": "code",
   "execution_count": 156,
   "metadata": {},
   "outputs": [
    {
     "name": "stdout",
     "output_type": "stream",
     "text": [
      "70\n"
     ]
    }
   ],
   "source": [
    "# Assuming G is your DiGraph\n",
    "root_nodes = find_root_nodes(G)\n",
    "leaf_nodes = find_leaf_nodes(G)\n",
    "\n",
    "print(len(root_nodes))"
   ]
  },
  {
   "cell_type": "code",
   "execution_count": 168,
   "metadata": {},
   "outputs": [],
   "source": [
    "import networkx as nx\n",
    "from geopy.distance import geodesic\n",
    "\n",
    "def calculate_distance_elevation(wayid):\n",
    "    \"\"\"\n",
    "    Calculate the total distance and elevation gain of a way.\n",
    "    way_coordinates: List of (latitude, longitude) tuples.\n",
    "    elevations: List of elevations corresponding to each coordinate.\n",
    "    \"\"\"\n",
    "    total_distance = way_metrics[wayid]['distance']  # Total distance in meters\n",
    "    total_elevation_gain = way_metrics[wayid]['gain']  # Total elevation gain in meters\n",
    "\n",
    "    return [total_distance, total_elevation_gain]\n",
    "\n",
    "def dfs_find_trails(G, start_node, target_distance, target_elevation_gain, current_path=[], current_distance=0, current_elevation=0, distance_tolerance=50):\n",
    "    # Add the start_node to the current path\n",
    "    current_path = current_path + [start_node]\n",
    "\n",
    "    # Check if the current path meets the distance and elevation criteria\n",
    "    if current_distance >= target_distance and current_distance <= target_distance + distance_tolerance and current_elevation >= target_elevation_gain:\n",
    "        return [current_path]\n",
    "\n",
    "    paths = []\n",
    "    for node in G.successors(start_node):\n",
    "        # Check if the node has already been visited in the current path\n",
    "        if node not in current_path: \n",
    "            # Calculate the distance and elevation for the new way\n",
    "            way_distance, way_elevation = calculate_distance_elevation(node)\n",
    "            new_distance = current_distance + way_distance\n",
    "            new_elevation = current_elevation + way_elevation\n",
    "\n",
    "            # Continue the search if the new distance and elevation are within tolerance\n",
    "            if new_distance <= target_distance + distance_tolerance: \n",
    "                newpaths = dfs_find_trails(G, node, target_distance, target_elevation_gain, current_path, new_distance, new_elevation, distance_tolerance)\n",
    "                paths.extend(newpaths)\n",
    "\n",
    "    return paths\n",
    "\n"
   ]
  },
  {
   "cell_type": "code",
   "execution_count": 165,
   "metadata": {},
   "outputs": [
    {
     "name": "stdout",
     "output_type": "stream",
     "text": [
      "['36006153_0', '59878931_1', '73579855_0', '73579864_0', '73579928_0', '73622155_0', '73680752_2', '73680766_0', '73680792_0', '73680802_2', '73680807_0', '73680820_0', '73680845_2', '73680850_0', '73680855_0', '73680863_1', '73680875_0', '73680877_1', '73680902_0', '73680929_1', '73680951_1', '73680955_0', '73681015_0', '73681079_0', '73681083_0', '97309332_0', '97918391_0', '105107028_1', '113660806_0', '116417122_0', '129859895_1', '198354140_0', '264409328_0', '311287374_1', '342856328_0', '342856334_1', '342860382_1', '342860611_0', '343270417_1', '361823723_0', '361823725_1', '364951580_0', '400679135_0', '437190620_0', '442967665_0', '442967666_0', '471348777_0', '517774838_0', '521978877_0', '522322511_0', '544660536_0', '837711407_0', '937982930_0', '963610548_1', '963610550_1', '963610552_0', '963610553_0', '963610554_0', '963610557_0', '963610558_0', '993367635_0', '996186621_0', '996186629_0', '997648059_0', '1008955114_0', '1149770527_0', '1149770528_0', '1149772390_0', '1190224884_0', '1190224885_0']\n",
      "70\n"
     ]
    }
   ],
   "source": [
    "# Assuming G is your DiGraph and new_ways contains way data\n",
    "root_nodes = [node for node in G if G.in_degree(node) == 0]\n",
    "print(root_nodes)\n",
    "print(len(root_nodes))\n",
    "\n",
    "\n",
    "# Now all_trails contains paths that meet the criteria"
   ]
  },
  {
   "cell_type": "code",
   "execution_count": 194,
   "metadata": {},
   "outputs": [
    {
     "name": "stdout",
     "output_type": "stream",
     "text": [
      "13\n"
     ]
    }
   ],
   "source": [
    "all_trails = []\n",
    "distance_in_meters = 6000\n",
    "vert_in_meters = 300\n",
    "for root in range(len(root_nodes)):\n",
    "    all_trails.extend(dfs_find_trails(G, root_nodes[root], distance_in_meters, vert_in_meters, distance_tolerance=100))\n",
    "\n",
    "print(len(all_trails))"
   ]
  },
  {
   "cell_type": "code",
   "execution_count": 195,
   "metadata": {},
   "outputs": [
    {
     "name": "stdout",
     "output_type": "stream",
     "text": [
      "13\n",
      "Trail Distance: 7916.291178951994 Trail Elevation: 749.0\n",
      "Trail Distance: 7916.291178951994 Trail Elevation: 749.0\n",
      "Trail Distance: 7821.612456315693 Trail Elevation: 329.0\n",
      "Trail Distance: 7821.612456315693 Trail Elevation: 329.0\n",
      "Trail Distance: 8145.567623634655 Trail Elevation: 767.0\n",
      "Trail Distance: 8145.567623634655 Trail Elevation: 767.0\n",
      "Trail Distance: 8117.724284352406 Trail Elevation: 750.0\n",
      "Trail Distance: 8117.724284352406 Trail Elevation: 750.0\n",
      "Trail Distance: 8023.045561716105 Trail Elevation: 330.0\n",
      "Trail Distance: 8023.045561716105 Trail Elevation: 330.0\n",
      "Trail Distance: 8347.000729035064 Trail Elevation: 768.0\n",
      "Trail Distance: 8347.000729035064 Trail Elevation: 768.0\n",
      "Trail Distance: 8249.649237984173 Trail Elevation: 650.0\n"
     ]
    }
   ],
   "source": [
    "\n",
    "print(len(all_trails))\n",
    "# Create a Folium map\n",
    "# Initialize the map with a central location\n",
    "# map_center = [first_line.coords[0][0], first_line.coords[0][1]]\n",
    "\n",
    "m = folium.Map( zoom_start=13)\n",
    "\n",
    "# Function to add a trail to the map\n",
    "def add_trail_to_map(trail_coordinates, map_object):\n",
    "    # trail is a list of coordinates [(lat, lon), (lat, lon), ...]\n",
    "        # Extract start and end coordinates of the trail\n",
    "    start_coord = trail_coordinates[0]  # First coordinate of the first way\n",
    "    end_coord = trail_coordinates[-1]  # Last coordinate of the last way\n",
    "\n",
    "    # Add markers for start and end points\n",
    "    folium.Marker(\n",
    "        start_coord,\n",
    "        popup=\"Start\",\n",
    "        icon=folium.Icon(color='green', icon='play')\n",
    "    ).add_to(map_object)\n",
    "\n",
    "    folium.Marker(\n",
    "        end_coord,\n",
    "        popup=\"End\",\n",
    "        icon=folium.Icon(color='red', icon='stop')\n",
    "    ).add_to(map_object)\n",
    "\n",
    "\n",
    "    folium.PolyLine(trail_coordinates, color='blue', weight=2.5, opacity=1).add_to(map_object)\n",
    "\n",
    "# Add each trail to the map\n",
    "for trail_set in all_trails:  # Assuming all_trails is a list of trails\n",
    "    trail_coordinates = []\n",
    "    for each_trail in trail_set:\n",
    "        trail_coordinates.extend(new_ways[each_trail])  # Convert way IDs to coordinates\n",
    "\n",
    "\n",
    "    #printout info about that trail\n",
    "    dist,ele = get_distance_elevation(trail_coordinates)\n",
    "    print(\"Trail Distance: {} Trail Elevation: {}\".format(dist, ele))\n",
    "\n",
    "    \n",
    "    add_trail_to_map(trail_coordinates, m)\n",
    "\n",
    "# Save or display the map\n",
    "m.save('trails_map.html')\n"
   ]
  },
  {
   "cell_type": "code",
   "execution_count": 196,
   "metadata": {},
   "outputs": [],
   "source": [
    "def get_distance_elevation(way_coordinates):\n",
    "    total_distance = 0  # Total distance in meters\n",
    "    total_elevation_gain = 0\n",
    "\n",
    "    for i in range(len(way_coordinates) - 1):\n",
    "        # Calculate distance between consecutive points\n",
    "        point1 = way_coordinates[i]\n",
    "        point2 = way_coordinates[i+1]\n",
    "\n",
    "        distance = geodesic(point1, point2).meters\n",
    "        total_distance += distance\n",
    "\n",
    "    \n",
    "    point1 = way_coordinates[0]\n",
    "    point2 = way_coordinates[-1]\n",
    "\n",
    "\n",
    "    point1_elevation = 0\n",
    "    point2_elevation = 0\n",
    "\n",
    "    api_url = f\"https://api.open-elevation.com/api/v1/lookup?locations={point1[0]},{point1[1]}\"\n",
    "    response = requests.get(api_url)\n",
    "    if response.status_code == 200:\n",
    "        data = response.json()\n",
    "        # Extract elevation from the response\n",
    "        point1_elevation = data['results'][0]['elevation']\n",
    "    else:\n",
    "        point1_elevation = 0\n",
    "\n",
    "    api_url = f\"https://api.open-elevation.com/api/v1/lookup?locations={point2[0]},{point2[1]}\"\n",
    "    response = requests.get(api_url)\n",
    "    if response.status_code == 200:\n",
    "        data = response.json()\n",
    "        # Extract elevation from the response\n",
    "        point2_elevation = data['results'][0]['elevation']\n",
    "    else:\n",
    "        point2_elevation = 0\n",
    "\n",
    "    total_elevation_gain += point2_elevation - point1_elevation\n",
    "    return [total_distance,total_elevation_gain]"
   ]
  }
 ],
 "metadata": {
  "kernelspec": {
   "display_name": "Python 3",
   "language": "python",
   "name": "python3"
  },
  "language_info": {
   "codemirror_mode": {
    "name": "ipython",
    "version": 3
   },
   "file_extension": ".py",
   "mimetype": "text/x-python",
   "name": "python",
   "nbconvert_exporter": "python",
   "pygments_lexer": "ipython3",
   "version": "3.11.6"
  }
 },
 "nbformat": 4,
 "nbformat_minor": 2
}
